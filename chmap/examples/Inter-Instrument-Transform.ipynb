{
 "cells": [
  {
   "cell_type": "markdown",
   "id": "c176cd28",
   "metadata": {},
   "source": [
    "## Import Packages\n",
    "Import common packages"
   ]
  },
  {
   "cell_type": "code",
   "execution_count": 1,
   "id": "a68c9196",
   "metadata": {},
   "outputs": [],
   "source": [
    "import os\n",
    "import datetime\n",
    "import numpy as np"
   ]
  },
  {
   "cell_type": "markdown",
   "id": "470eca4e",
   "metadata": {},
   "source": [
    "Tell python where your local copy of *chmap* is located"
   ]
  },
  {
   "cell_type": "code",
   "execution_count": 2,
   "id": "11c0eb4b",
   "metadata": {},
   "outputs": [],
   "source": [
    "import sys\n",
    "sys.path.append(\"/Users/turtle/GitReps/CHD\")"
   ]
  },
  {
   "cell_type": "markdown",
   "id": "e63217ce",
   "metadata": {},
   "source": [
    "Import chmap functions"
   ]
  },
  {
   "cell_type": "code",
   "execution_count": 3,
   "id": "ec5744c9",
   "metadata": {},
   "outputs": [],
   "source": [
    "import chmap.utilities.datatypes.datatypes as psi_dtypes\n",
    "import chmap.database.db_funs as db_funcs\n",
    "import chmap.database.db_classes as db_class\n",
    "import chmap.data.corrections.iit.IIT_pipeline_funcs as iit_funcs\n",
    "import chmap.data.corrections.lbcc.LBCC_theoretic_funcs as lbcc_funcs"
   ]
  },
  {
   "cell_type": "markdown",
   "id": "11274956",
   "metadata": {},
   "source": [
    "## Set parameters"
   ]
  },
  {
   "cell_type": "code",
   "execution_count": 4,
   "id": "be9cb02c",
   "metadata": {},
   "outputs": [],
   "source": [
    "####### ------ UPDATABLE PARAMETERS ------ #########\n",
    "# TIME RANGE FOR LBC CORRECTION AND IIT HISTOGRAM CREATION\n",
    "lbc_query_time_min = datetime.datetime(2011, 2, 1, 0, 0, 0)\n",
    "lbc_query_time_max = datetime.datetime(2011, 2, 2, 0, 0, 0)\n",
    "\n",
    "# TIME RANGE FOR FIT PARAMETER CALCULATION\n",
    "calc_query_time_min = datetime.datetime(2011, 4, 1, 0, 0, 0)\n",
    "calc_query_time_max = datetime.datetime(2011, 10, 1, 0, 0, 0)\n",
    "weekday = 0  # start at 0 for Monday\n",
    "number_of_days = 180  # days for moving average\n",
    "# TIME WINDOWS FOR IMAGE INCLUSION\n",
    "image_freq = 2      # number of hours between window centers\n",
    "image_del = np.timedelta64(30, 'm') # one-half window width\n",
    "\n",
    "# TIME RANGE FOR IIT CORRECTION AND IMAGE PLOTTING\n",
    "iit_query_time_min = datetime.datetime(2011, 4, 1, 0, 0, 0)\n",
    "iit_query_time_max = datetime.datetime(2011, 10, 1, 0, 0, 0)\n",
    "plot = True  # true if you want to plot resulting images\n",
    "n_images_plot = 1  # number of images to plot\n",
    "\n",
    "# TIME RANGE FOR HISTOGRAM CREATION\n",
    "hist_query_time_min = datetime.datetime(2011, 4, 1, 0, 0, 0)\n",
    "hist_query_time_max = datetime.datetime(2011, 10, 1, 0, 0, 0)\n",
    "\n",
    "# INSTRUMENTS\n",
    "inst_list = [\"AIA\", \"EUVI-A\", \"EUVI-B\"]\n",
    "ref_inst = \"AIA\"  # reference instrument to fit histograms to\n",
    "wavelengths = [193, 195]\n",
    "\n",
    "# declare map and histogram-binning parameters\n",
    "n_mu_bins = 18\n",
    "n_intensity_bins = 200\n",
    "R0 = 1.01\n",
    "log10 = True\n",
    "lat_band = [-np.pi / 2.4, np.pi / 2.4]\n",
    "\n",
    "# DATABASE FILE-SYSTEM PATHS\n",
    "raw_data_dir = \"/Volumes/extdata2/CHMAP_DB_example/raw_images\"\n",
    "hdf_data_dir = \"/Volumes/extdata2/CHMAP_DB_example/processed_images\"\n",
    "\n",
    "# DATABASE CONNECTION\n",
    "create = True  # set to False to disallow writes to the database\n",
    "db_type = \"sqlite\"\n",
    "sqlite_path = \"/Volumes/extdata2/CHMAP_DB_example/chmap_example.db\""
   ]
  },
  {
   "cell_type": "code",
   "execution_count": 6,
   "id": "53d5bd85",
   "metadata": {},
   "outputs": [
    {
     "name": "stdout",
     "output_type": "stream",
     "text": [
      "Attempting to connect to SQLite DB server /Volumes/extdata2/CHMAP_DB_example/chmap_example.db\n",
      "Connection successful\n",
      "\n"
     ]
    }
   ],
   "source": [
    "# connect to database\n",
    "db_session = db_funcs.init_db_conn(db_type, db_class.Base, db_loc=sqlite_path)"
   ]
  },
  {
   "cell_type": "markdown",
   "id": "878eaa61",
   "metadata": {},
   "source": [
    "## Choose an image for demonstration"
   ]
  },
  {
   "cell_type": "code",
   "execution_count": 18,
   "id": "654adf98",
   "metadata": {},
   "outputs": [
    {
     "name": "stdout",
     "output_type": "stream",
     "text": [
      "data_id                                                    30763\n",
      "date_obs                                     2011-02-01 10:00:30\n",
      "instrument                                                EUVI-A\n",
      "wavelength                                                   195\n",
      "distance                                             143867000.0\n",
      "cr_lon                                                    288.31\n",
      "cr_lat                                                  -4.39192\n",
      "cr_rot                                                    2106.2\n",
      "flag                                                           0\n",
      "time_of_download                             2020-09-30 18:54:44\n",
      "fname_raw           2011/02/01/sta_euvi_20110201T100030_195.fits\n",
      "fname_hdf           2011/02/01/euvia_lvl2_20110201T100030_195.h5\n",
      "Name: 4, dtype: object\n"
     ]
    }
   ],
   "source": [
    "query_instrument = [\"EUVI-A\", ]\n",
    "query_pd_all = db_funcs.query_euv_images(db_session=db_session, time_min=lbc_query_time_min,\n",
    "                                         time_max=lbc_query_time_max, instrument=query_instrument,\n",
    "                                         wavelength=wavelengths)\n",
    "use_image = query_pd_all.loc[4]\n",
    "print(use_image)"
   ]
  },
  {
   "cell_type": "markdown",
   "id": "fb31b714",
   "metadata": {},
   "source": [
    "## Apply limb correction"
   ]
  },
  {
   "cell_type": "code",
   "execution_count": 19,
   "id": "162818bd",
   "metadata": {},
   "outputs": [],
   "source": [
    "# apply limb correction to chosen image\n",
    "original_los, lbcc_image, mu_indices, use_indices, theoretic_query = lbcc_funcs.apply_lbc_2(\n",
    "    db_session, hdf_data_dir, use_image, n_intensity_bins=n_intensity_bins, R0=R0)"
   ]
  },
  {
   "cell_type": "markdown",
   "id": "3cdc35a5",
   "metadata": {},
   "source": [
    "## Generate equatorial histogram"
   ]
  },
  {
   "cell_type": "code",
   "execution_count": 23,
   "id": "629a3e4d",
   "metadata": {},
   "outputs": [],
   "source": [
    "# calculate IIT histogram from limb-corrected image\n",
    "temp_hist = psi_dtypes.LBCCImage.iit_hist(lbcc_image, lat_band, log10)\n",
    "\n",
    "# query IIT method_id\n",
    "meth_name = \"IIT\"\n",
    "method_id = db_funcs.get_method_id(db_session, meth_name)\n",
    "\n",
    "# create IIT histogram datatype\n",
    "iit_hist = psi_dtypes.create_iit_hist(lbcc_image, method_id[1], lat_band, temp_hist) "
   ]
  },
  {
   "cell_type": "markdown",
   "id": "6ce4f29c",
   "metadata": {},
   "source": [
    "Add histogram to database"
   ]
  },
  {
   "cell_type": "code",
   "execution_count": null,
   "id": "a63043ec",
   "metadata": {},
   "outputs": [],
   "source": [
    "# add IIT histogram and meta data to database\n",
    "# db_funcs.add_hist(db_session, iit_hist)"
   ]
  },
  {
   "cell_type": "code",
   "execution_count": null,
   "id": "fd1ff538",
   "metadata": {},
   "outputs": [],
   "source": []
  },
  {
   "cell_type": "code",
   "execution_count": null,
   "id": "098704e6",
   "metadata": {},
   "outputs": [],
   "source": []
  },
  {
   "cell_type": "code",
   "execution_count": null,
   "id": "641af620",
   "metadata": {},
   "outputs": [],
   "source": []
  },
  {
   "cell_type": "code",
   "execution_count": null,
   "id": "17f12f0d",
   "metadata": {},
   "outputs": [],
   "source": []
  },
  {
   "cell_type": "code",
   "execution_count": null,
   "id": "8a408598",
   "metadata": {},
   "outputs": [],
   "source": []
  },
  {
   "cell_type": "code",
   "execution_count": null,
   "id": "b4ce9468",
   "metadata": {},
   "outputs": [],
   "source": []
  },
  {
   "cell_type": "code",
   "execution_count": null,
   "id": "f75a5da3",
   "metadata": {},
   "outputs": [],
   "source": []
  }
 ],
 "metadata": {
  "kernelspec": {
   "display_name": "Python 3",
   "language": "python",
   "name": "python3"
  },
  "language_info": {
   "codemirror_mode": {
    "name": "ipython",
    "version": 3
   },
   "file_extension": ".py",
   "mimetype": "text/x-python",
   "name": "python",
   "nbconvert_exporter": "python",
   "pygments_lexer": "ipython3",
   "version": "3.7.10"
  }
 },
 "nbformat": 4,
 "nbformat_minor": 5
}
